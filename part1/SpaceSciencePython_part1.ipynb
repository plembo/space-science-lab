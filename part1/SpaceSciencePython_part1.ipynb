{
 "cells": [
  {
   "cell_type": "markdown",
   "metadata": {},
   "source": [
    "# Space Science with Python - Part 1\n",
    "## Distance between Earth and the Sun"
   ]
  },
  {
   "cell_type": "code",
   "execution_count": 1,
   "metadata": {},
   "outputs": [],
   "source": [
    "# Import the SPICE module\n",
    "import spiceypy"
   ]
  },
  {
   "cell_type": "code",
   "execution_count": 15,
   "metadata": {},
   "outputs": [
    {
     "name": "stdout",
     "output_type": "stream",
     "text": [
      "2021-10-17 17:12:45.238250\n",
      "2021-10-17T00:00:00\n"
     ]
    }
   ],
   "source": [
    "# We want to determine the position of our home planet with respect to the Sun.\n",
    "# The datetime shall be set as \"today\" (midnight). SPICE requires the Ephemeris Time (ET);\n",
    "# thus, we need to convert a UTC datetime string to ET.\n",
    "\n",
    "import datetime\n",
    "\n",
    "# get today's date\n",
    "DATE_TODAY = datetime.datetime.today()\n",
    "print(DATE_TODAY)\n",
    "# convert the datetime to a string, replacing the time with midnight\n",
    "DATE_TODAY = DATE_TODAY.strftime('%Y-%m-%dT00:00:00')\n",
    "print(DATE_TODAY)\n"
   ]
  },
  {
   "cell_type": "code",
   "execution_count": 16,
   "metadata": {},
   "outputs": [],
   "source": [
    "# convert the utc midnight string to the corresponding ET\n",
    "ET_TODAY_MIDNIGHT = spiceypy.utc2et(DATE_TODAY)"
   ]
  },
  {
   "cell_type": "code",
   "execution_count": 17,
   "metadata": {},
   "outputs": [],
   "source": [
    "# oh... an error occurred. The error tells us that a so called \"kernel\" is missing. These kernels store all\n",
    "# information that are required for time conversion, pointing, position determination etc.\n",
    "# For this tutorial the Git repository contains already the necessary kernel. We need to load it first\n",
    "spiceypy.furnsh('../_kernels/lsk/naif0012.tls')"
   ]
  },
  {
   "cell_type": "code",
   "execution_count": 18,
   "metadata": {},
   "outputs": [],
   "source": [
    "# Let's re-try our first time conversion command\n",
    "ET_TODAY_MIDNIGHT = spiceypy.utc2et(DATE_TODAY)"
   ]
  },
  {
   "cell_type": "code",
   "execution_count": 19,
   "metadata": {},
   "outputs": [
    {
     "name": "stdout",
     "output_type": "stream",
     "text": [
      "687700869.1823761\n"
     ]
    }
   ],
   "source": [
    "# It works! How does the value look like?\n",
    "print(ET_TODAY_MIDNIGHT)"
   ]
  },
  {
   "cell_type": "code",
   "execution_count": 20,
   "metadata": {},
   "outputs": [],
   "source": [
    "# Can we compute now the position and velocity (so called state) of the Earth with respect to the Sun?\n",
    "# We use the following function to determine the state vector and the so called light time (travel time of the\n",
    "# light between the Sun and our home planet). Positions are always given in km, velocities in km/s and times in\n",
    "# seconds\n",
    "\n",
    "# targ : Object that shall be pointed at\n",
    "# et : The ET of the computation\n",
    "# ref : The reference frame. Here, it is ECLIPJ2000 (so Medium article)\n",
    "# obs :  The observer respectively the center of our state vector computation\n",
    "EARTH_STATE_WRT_SUN, EARTH_SUN_LIGHT_TIME = spiceypy.spkgeo(targ=399, et=ET_TODAY_MIDNIGHT, \\\n",
    "                                                            ref='ECLIPJ2000', obs=10)"
   ]
  },
  {
   "cell_type": "code",
   "execution_count": 21,
   "metadata": {},
   "outputs": [],
   "source": [
    "# An error occured. Again a kernel error. Well, we need to load a so called spk to load positional information:\n",
    "spiceypy.furnsh('../_kernels/spk/de432s.bsp')"
   ]
  },
  {
   "cell_type": "code",
   "execution_count": 22,
   "metadata": {},
   "outputs": [],
   "source": [
    "# Let's re-try the computation again\n",
    "EARTH_STATE_WRT_SUN, EARTH_SUN_LIGHT_TIME = spiceypy.spkgeo(targ=399, et=ET_TODAY_MIDNIGHT, \\\n",
    "                                                            ref='ECLIPJ2000', obs=10)"
   ]
  },
  {
   "cell_type": "code",
   "execution_count": 9,
   "metadata": {},
   "outputs": [
    {
     "name": "stdout",
     "output_type": "stream",
     "text": [
      "State vector of the Earth w.r.t. the Sun for \"today\" (midnight):\n",
      " [ 1.36686947e+08  5.95588868e+07 -2.95858211e+03 -1.23872225e+01\n",
      "  2.71857878e+01 -1.40021647e-03]\n"
     ]
    }
   ],
   "source": [
    "# The state vector is 6 dimensional: x,y,z in km and the corresponding velocities in km/s\n",
    "print('State vector of the Earth w.r.t. the Sun for \"today\" (midnight):\\n', EARTH_STATE_WRT_SUN)"
   ]
  },
  {
   "cell_type": "code",
   "execution_count": 23,
   "metadata": {},
   "outputs": [],
   "source": [
    "# The (Euclidean) distance should be around 1 AU. Why \"around\"? Well the Earth revolves the Sun in a slightly\n",
    "# non-perfect circle (elliptic orbit). First, we compute the distance in km.\n",
    "import math\n",
    "EARTH_SUN_DISTANCE = math.sqrt(EARTH_STATE_WRT_SUN[0]**2.0 \\\n",
    "                             + EARTH_STATE_WRT_SUN[1]**2.0 \\\n",
    "                             + EARTH_STATE_WRT_SUN[2]**2.0)"
   ]
  },
  {
   "cell_type": "code",
   "execution_count": 24,
   "metadata": {},
   "outputs": [
    {
     "name": "stdout",
     "output_type": "stream",
     "text": [
      "Current distance between the Earth and the Sun in AU: 0.9966668405334256\n"
     ]
    }
   ],
   "source": [
    "# Convert the distance in astronomical units (1 AU)\n",
    "# Instead of searching for the \"most recent\" value, we use the default value in SPICE. This way, we can easily\n",
    "# compare our results with the results of others.\n",
    "EARTH_SUN_DISTANCE_AU = spiceypy.convrt(EARTH_SUN_DISTANCE, 'km', 'AU')\n",
    "\n",
    "# Cool, it works!\n",
    "print('Current distance between the Earth and the Sun in AU:', EARTH_SUN_DISTANCE_AU)"
   ]
  },
  {
   "cell_type": "markdown",
   "metadata": {},
   "source": [
    "## Orbital speed of the Earth\n",
    "For this, we need the equation to determine the orbital speed. We assume that the Sun's mass is greater than the mass\n",
    "of the Earth and we assume that our planet is moving on an almost circular orbit. The orbit velocity $v_{\\text{orb}}$ can be approximated with, where $G$ is the gravitational constant, $M$ is the mass of the Sun and $r$ is the distance between the Earth and the Sun:\n",
    "\\begin{align}\n",
    "    v_{\\text{orb}}\\approx\\sqrt{\\frac{GM}{r}}\n",
    "\\end{align}"
   ]
  },
  {
   "cell_type": "code",
   "execution_count": 12,
   "metadata": {},
   "outputs": [
    {
     "name": "stdout",
     "output_type": "stream",
     "text": [
      "Current orbital speed of the Earth around the Sun in km/s: 29.874911551528726\n"
     ]
    }
   ],
   "source": [
    "# First, we compute the actual orbital speed of the Earth around the Sun\n",
    "EARTH_ORB_SPEED_WRT_SUN = math.sqrt(EARTH_STATE_WRT_SUN[3]**2.0 \\\n",
    "                                  + EARTH_STATE_WRT_SUN[4]**2.0 \\\n",
    "                                  + EARTH_STATE_WRT_SUN[5]**2.0)\n",
    "\n",
    "# It's around 30 km/s\n",
    "print('Current orbital speed of the Earth around the Sun in km/s:', EARTH_ORB_SPEED_WRT_SUN)"
   ]
  },
  {
   "cell_type": "code",
   "execution_count": 13,
   "metadata": {},
   "outputs": [
    {
     "name": "stdout",
     "output_type": "stream",
     "text": [
      "Theoretical orbital speed of the Earth around the Sun in km/s: 29.83445484238423\n"
     ]
    }
   ],
   "source": [
    "# Now let's compute the theoretical expectation. First, we load a pck file that contain miscellanoeus information,\n",
    "# like the G*M values for different objects\n",
    "\n",
    "# First, load the kernel\n",
    "spiceypy.furnsh('../_kernels/pck/gm_de431.tpc')\n",
    "_, GM_SUN = spiceypy.bodvcd(bodyid=10, item='GM', maxn=1)\n",
    "\n",
    "# Now compute the orbital speed\n",
    "V_ORB_FUNC = lambda gm, r: math.sqrt(gm/r)\n",
    "EARTH_ORB_SPEED_WRT_SUN_THEORY = V_ORB_FUNC(GM_SUN[0], EARTH_SUN_DISTANCE)\n",
    "\n",
    "# Print the result\n",
    "print('Theoretical orbital speed of the Earth around the Sun in km/s:', EARTH_ORB_SPEED_WRT_SUN_THEORY)"
   ]
  },
  {
   "cell_type": "code",
   "execution_count": null,
   "metadata": {},
   "outputs": [],
   "source": []
  }
 ],
 "metadata": {
  "kernelspec": {
   "display_name": "Python 3 (ipykernel)",
   "language": "python",
   "name": "python3"
  },
  "language_info": {
   "codemirror_mode": {
    "name": "ipython",
    "version": 3
   },
   "file_extension": ".py",
   "mimetype": "text/x-python",
   "name": "python",
   "nbconvert_exporter": "python",
   "pygments_lexer": "ipython3",
   "version": "3.9.7"
  }
 },
 "nbformat": 4,
 "nbformat_minor": 4
}
